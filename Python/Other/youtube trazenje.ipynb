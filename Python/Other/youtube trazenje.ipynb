{
 "cells": [
  {
   "cell_type": "markdown",
   "metadata": {},
   "source": [
    "Kod uzima neki pojam koji pretražuje na YouTubeu, otvara prvi video i zatim pet puta ide na prvi preporučeni video. Ideja je vidjeti koliko se daleko udaljimo od početnog pojma."
   ]
  },
  {
   "cell_type": "code",
   "execution_count": 1,
   "metadata": {},
   "outputs": [],
   "source": [
    "import urllib3 as ur"
   ]
  },
  {
   "cell_type": "code",
   "execution_count": 2,
   "metadata": {},
   "outputs": [],
   "source": [
    "search_term = 'majoneza'\n",
    "link = 'https://www.youtube.com/results?search_query=' + search_term\n",
    "\n",
    "http = ur.PoolManager()\n",
    "#read = http.request('GET', link)"
   ]
  },
  {
   "cell_type": "code",
   "execution_count": 4,
   "metadata": {},
   "outputs": [
    {
     "name": "stdout",
     "output_type": "stream",
     "text": [
      "https://www.youtube.com/watch?v=y3CHb6H8Bk4\n"
     ]
    }
   ],
   "source": [
    "for j in range(0, 5):\n",
    "    read = http.request('GET', link)\n",
    "    temp = str(read.data).find(\"url\\\":\\\"/wa\")\n",
    "    temp2 = str(read.data).find(\"\\\"\", temp + 6, temp + 200)\n",
    "    if(temp == -1 or temp2 == -1):\n",
    "        raise Exception(\"Search error.\")\n",
    "\n",
    "    link = \"https://www.youtube.com\"\n",
    "    for i in range(temp+6, temp2):\n",
    "        link += (str(read.data)[i])\n",
    "    \n",
    "print(link)"
   ]
  }
 ],
 "metadata": {
  "kernelspec": {
   "display_name": "Python 3 (ipykernel)",
   "language": "python",
   "name": "python3"
  },
  "language_info": {
   "codemirror_mode": {
    "name": "ipython",
    "version": 3
   },
   "file_extension": ".py",
   "mimetype": "text/x-python",
   "name": "python",
   "nbconvert_exporter": "python",
   "pygments_lexer": "ipython3",
   "version": "3.7.13"
  }
 },
 "nbformat": 4,
 "nbformat_minor": 2
}
