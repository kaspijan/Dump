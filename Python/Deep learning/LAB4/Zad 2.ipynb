{
 "cells": [
  {
   "cell_type": "markdown",
   "id": "d215a17e",
   "metadata": {},
   "source": [
    "Autor koda: Šimun Šopar"
   ]
  },
  {
   "cell_type": "code",
   "execution_count": 2,
   "id": "9887571b",
   "metadata": {},
   "outputs": [],
   "source": [
    "import torch\n",
    "import torch.nn as nn\n",
    "import torch.nn.functional as F\n",
    "import numpy as np\n",
    "\n",
    "class _BNReluConv(nn.Sequential):\n",
    "    def __init__(self, num_maps_in, num_maps_out, k=3, bias=True):\n",
    "        super(_BNReluConv, self).__init__()\n",
    "        self.append(nn.BatchNorm2d(num_maps_in))\n",
    "        self.append(nn.ReLU())\n",
    "        self.append(nn.Conv2d(num_maps_in, num_maps_out, k, bias = bias))\n",
    "\n",
    "        \n",
    "class SimpleMetricEmbedding(nn.Module):\n",
    "    def __init__(self, input_channels, emb_size=32):\n",
    "        super().__init__()\n",
    "        kernel_size = 3\n",
    "        self.emb_size = emb_size\n",
    "        self.model = nn.Sequential()\n",
    "        self.model.append(_BNReluConv(1, emb_size, kernel_size))\n",
    "        self.model.append(nn.MaxPool2d(kernel_size = 3, stride = 2))\n",
    "        \n",
    "        self.model.append(_BNReluConv(emb_size, emb_size, kernel_size))\n",
    "        self.model.append(nn.MaxPool2d(kernel_size = 3, stride = 2))\n",
    "        \n",
    "        self.model.append(_BNReluConv(emb_size, emb_size, kernel_size))\n",
    "        \n",
    "    \n",
    "    def get_features(self, img):\n",
    "        h = self.model.forward(img)\n",
    "        h = torch.mean(h, dim = [2,3])\n",
    "        if(len(h.shape) == 1):\n",
    "            h = torch.reshape(h, [1, len(h)])\n",
    "        return h\n",
    "        \n",
    "\n",
    "\n",
    "    def loss(self, anchor, positive, negative, margin = 1.0, p = 2):\n",
    "        a_x = self.get_features(anchor)\n",
    "        p_x = self.get_features(positive)\n",
    "        n_x = self.get_features(negative)\n",
    "        \n",
    "        if(len(a_x.shape) == 1):\n",
    "            a_x = torch.reshape(a_x, [1, len(a_x)])\n",
    "            p_x = torch.reshape(p_x, [1, len(p_x)])\n",
    "            n_x = torch.reshape(n_x, [1, len(n_x)])\n",
    "            \n",
    "        \n",
    "        \n",
    "        d_positive = torch.abs(a_x - p_x)**p\n",
    "        d_negative = torch.abs(a_x - n_x)**p\n",
    "        d_positive = torch.sum(d_positive, dim = 1)**(1/p)\n",
    "        d_negative = torch.sum(d_negative, dim = 1)**(1/p)\n",
    "        \n",
    "        \n",
    "        loss = [np.max([d_positive[i].item() - d_negative[i].item() + margin, 0]) for i in range(len(d_positive))]\n",
    "        \n",
    "        return torch.tensor(loss, requires_grad = True).sum()"
   ]
  },
  {
   "cell_type": "code",
   "execution_count": 20,
   "id": "f2eebeac",
   "metadata": {},
   "outputs": [],
   "source": [
    "a = SimpleMetricEmbedding(1)"
   ]
  },
  {
   "cell_type": "code",
   "execution_count": null,
   "id": "0cb79bd0",
   "metadata": {},
   "outputs": [],
   "source": []
  }
 ],
 "metadata": {
  "kernelspec": {
   "display_name": "Python 3 (ipykernel)",
   "language": "python",
   "name": "python3"
  },
  "language_info": {
   "codemirror_mode": {
    "name": "ipython",
    "version": 3
   },
   "file_extension": ".py",
   "mimetype": "text/x-python",
   "name": "python",
   "nbconvert_exporter": "python",
   "pygments_lexer": "ipython3",
   "version": "3.7.13"
  }
 },
 "nbformat": 4,
 "nbformat_minor": 5
}
