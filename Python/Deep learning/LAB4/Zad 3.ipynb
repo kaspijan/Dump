{
 "cells": [
  {
   "cell_type": "markdown",
   "id": "0edf8575",
   "metadata": {},
   "source": [
    "Dio koda preuzet je od FER-a. Ostatak je ili preinačen taj dio koda, ili izvorno napisan kod (autor Šimun Šopar)."
   ]
  },
  {
   "cell_type": "code",
   "execution_count": 1,
   "id": "82b19072",
   "metadata": {},
   "outputs": [],
   "source": [
    "import time\n",
    "import torch.optim\n",
    "from torch.utils.data import DataLoader\n",
    "from utils import train, evaluate, compute_representations\n",
    "import numpy as np\n",
    "from collections import defaultdict\n",
    "\n",
    "from simple_embedding import SimpleMetricEmbedding, IdentityModel\n",
    "from metric_dataset import MNISTMetricDataset\n",
    "\n",
    "\n",
    "EVAL_ON_TEST = True\n",
    "EVAL_ON_TRAIN = False\n",
    "remove_class = None"
   ]
  },
  {
   "cell_type": "code",
   "execution_count": 2,
   "id": "dd5d5bf2",
   "metadata": {},
   "outputs": [
    {
     "name": "stdout",
     "output_type": "stream",
     "text": [
      "= Using device cpu\n",
      "> Loaded 60000 training images!\n",
      "> Loaded 10000 validation images!\n"
     ]
    }
   ],
   "source": [
    "#@author FER\n",
    "device = 'cuda' if torch.cuda.is_available() else 'cpu'\n",
    "print(f\"= Using device {device}\")\n",
    "\n",
    "\n",
    "\n",
    "mnist_download_root = \"./MNIST data\"\n",
    "ds_train = MNISTMetricDataset(mnist_download_root, split='train')\n",
    "ds_test = MNISTMetricDataset(mnist_download_root, split='test')\n",
    "ds_traineval = MNISTMetricDataset(mnist_download_root, split='traineval')\n",
    "\n",
    "num_classes = 10\n",
    "\n",
    "print(f\"> Loaded {len(ds_train)} training images!\")\n",
    "print(f\"> Loaded {len(ds_test)} validation images!\")"
   ]
  },
  {
   "cell_type": "code",
   "execution_count": 3,
   "id": "4192440f",
   "metadata": {},
   "outputs": [],
   "source": [
    "#@author FER\n",
    "train_loader = DataLoader(\n",
    "    ds_train,\n",
    "    batch_size=64,\n",
    "    shuffle=True,\n",
    "    pin_memory=True,\n",
    "    num_workers=4,\n",
    "    drop_last=True\n",
    ")\n",
    "\n",
    "test_loader = DataLoader(\n",
    "    ds_test,\n",
    "    batch_size=1,\n",
    "    shuffle=False,\n",
    "    pin_memory=True,\n",
    "    num_workers=1\n",
    ")\n",
    "\n",
    "traineval_loader = DataLoader(\n",
    "    ds_traineval,\n",
    "    batch_size=1,\n",
    "    shuffle=False,\n",
    "    pin_memory=True,\n",
    "    num_workers=1\n",
    ")"
   ]
  },
  {
   "cell_type": "markdown",
   "id": "12550cd4",
   "metadata": {},
   "source": [
    "# Metrički model"
   ]
  },
  {
   "cell_type": "code",
   "execution_count": 7,
   "id": "1841d8ef",
   "metadata": {},
   "outputs": [],
   "source": [
    "#@author FER\n",
    "emb_size = 32\n",
    "model = SimpleMetricEmbedding(1, emb_size).to(device)\n",
    "optimizer = torch.optim.Adam(\n",
    "    model.parameters(),\n",
    "    lr=1e-3\n",
    ")\n",
    "\n",
    "epochs = 3"
   ]
  },
  {
   "cell_type": "code",
   "execution_count": 8,
   "id": "bad4a199",
   "metadata": {},
   "outputs": [
    {
     "name": "stdout",
     "output_type": "stream",
     "text": [
      "Epoch: 0\n",
      "Iter: 0, Mean Loss: 45.702\n",
      "Iter: 100, Mean Loss: 50.245\n",
      "Iter: 200, Mean Loss: 50.369\n",
      "Iter: 300, Mean Loss: 50.434\n",
      "Iter: 400, Mean Loss: 50.365\n",
      "Iter: 500, Mean Loss: 50.338\n",
      "Iter: 600, Mean Loss: 50.357\n",
      "Iter: 700, Mean Loss: 50.290\n",
      "Iter: 800, Mean Loss: 50.271\n",
      "Iter: 900, Mean Loss: 50.331\n",
      "Mean Loss in Epoch 0: 50.364\n",
      "Computing mean representations for evaluation...\n",
      "Evaluating on test set...\n",
      "Epoch 0: Test Accuracy: 65.88%\n",
      "Epoch time (sec): 71.9\n",
      "Epoch: 1\n",
      "Iter: 0, Mean Loss: 51.873\n",
      "Iter: 100, Mean Loss: 50.159\n",
      "Iter: 200, Mean Loss: 49.995\n",
      "Iter: 300, Mean Loss: 50.219\n",
      "Iter: 400, Mean Loss: 50.261\n",
      "Iter: 500, Mean Loss: 50.318\n",
      "Iter: 600, Mean Loss: 50.264\n",
      "Iter: 700, Mean Loss: 50.221\n",
      "Iter: 800, Mean Loss: 50.225\n",
      "Iter: 900, Mean Loss: 50.233\n",
      "Mean Loss in Epoch 1: 50.186\n",
      "Computing mean representations for evaluation...\n",
      "Evaluating on test set...\n",
      "Epoch 1: Test Accuracy: 65.78%\n",
      "Epoch time (sec): 100.5\n",
      "Epoch: 2\n",
      "Iter: 0, Mean Loss: 52.157\n",
      "Iter: 100, Mean Loss: 50.148\n",
      "Iter: 200, Mean Loss: 49.993\n",
      "Iter: 300, Mean Loss: 49.992\n",
      "Iter: 400, Mean Loss: 50.030\n",
      "Iter: 500, Mean Loss: 50.000\n",
      "Iter: 600, Mean Loss: 50.054\n",
      "Iter: 700, Mean Loss: 50.065\n",
      "Iter: 800, Mean Loss: 50.068\n",
      "Iter: 900, Mean Loss: 50.105\n",
      "Mean Loss in Epoch 2: 50.091\n",
      "Computing mean representations for evaluation...\n",
      "Evaluating on test set...\n",
      "Epoch 2: Test Accuracy: 65.77%\n",
      "Epoch time (sec): 161.8\n"
     ]
    }
   ],
   "source": [
    "#@author FER\n",
    "for epoch in range(epochs):\n",
    "    print(f\"Epoch: {epoch}\")\n",
    "    t0 = time.time_ns()\n",
    "    train_loss = train(model, optimizer, train_loader, device)\n",
    "    print(f\"Mean Loss in Epoch {epoch}: {train_loss:.3f}\")\n",
    "    if EVAL_ON_TEST or EVAL_ON_TRAIN:\n",
    "        print(\"Computing mean representations for evaluation...\")\n",
    "        representations = compute_representations(model, train_loader, num_classes, emb_size, device)\n",
    "    if EVAL_ON_TRAIN:\n",
    "        print(\"Evaluating on training set...\")\n",
    "        acc1 = evaluate(model, representations, traineval_loader, device)\n",
    "        print(f\"Epoch {epoch}: Train Top1 Acc: {round(acc1 * 100, 2)}%\")\n",
    "    if EVAL_ON_TEST:\n",
    "        print(\"Evaluating on test set...\")\n",
    "        acc1 = evaluate(model, representations, test_loader, device)\n",
    "        print(f\"Epoch {epoch}: Test Accuracy: {acc1 * 100:.2f}%\")\n",
    "    t1 = time.time_ns()\n",
    "    print(f\"Epoch time (sec): {(t1-t0)/10**9:.1f}\")\n",
    "    \n",
    "#torch.save(model.state_dict(), 'model_parameters.pt')"
   ]
  },
  {
   "cell_type": "markdown",
   "id": "641683d6",
   "metadata": {},
   "source": [
    "# Usporedba u prostoru slike"
   ]
  },
  {
   "cell_type": "code",
   "execution_count": 6,
   "id": "75a661c7",
   "metadata": {},
   "outputs": [
    {
     "name": "stdout",
     "output_type": "stream",
     "text": [
      "Computing representations for evaluation...\n",
      "Representation computation time (sec): 9521873600000000000\n"
     ]
    }
   ],
   "source": [
    "#@author Simun Sopar\n",
    "simple_model = IdentityModel()\n",
    "\n",
    "t0 = time.time_ns()\n",
    "\n",
    "if EVAL_ON_TEST or EVAL_ON_TRAIN:\n",
    "    print(\"Computing representations for evaluation...\")\n",
    "    representations = defaultdict(list)\n",
    "    for i, data in enumerate(train_loader):\n",
    "        anchor, id = data[0], data[-1]\n",
    "        represent = simple_model.get_features(anchor)\n",
    "        \n",
    "        for j in range(len(id)):\n",
    "            representations[id[j].item()].append(represent[j])\n",
    "\n",
    "    average_repr = torch.zeros(num_classes, represent.shape[1])\n",
    "    for k, items in representations.items():\n",
    "        mean_item = torch.zeros(len(items[0]))\n",
    "        for item in items:\n",
    "            mean_item += item\n",
    "        average_repr[k] = mean_item/len(items)\n",
    "        \n",
    "print('Representation computation time (sec):', 10**(-9)*(time.time_ns() - t0))   \n",
    "    \n",
    "    \n"
   ]
  },
  {
   "cell_type": "code",
   "execution_count": 7,
   "id": "4880c907",
   "metadata": {},
   "outputs": [
    {
     "name": "stdout",
     "output_type": "stream",
     "text": [
      "Evaluating on test set...\n",
      "Accuracy: 63.09%\n",
      "Evaluation time (sec): 24.3\n"
     ]
    }
   ],
   "source": [
    "#@author Simun Sopar\n",
    "t0 = time.time_ns()\n",
    "\n",
    "if EVAL_ON_TRAIN:\n",
    "    print(\"Evaluating on training set...\")\n",
    "    y = []\n",
    "    y_pred = []\n",
    "    for i, data in enumerate(traineval_loader):\n",
    "        anchor, id = data[0], data[-1]\n",
    "        represent = torch.reshape(simple_model.get_features(anchor), [-1])\n",
    "        score = torch.zeros(10)\n",
    "        for j in range(num_classes):\n",
    "            score[j] = torch.dot(average_repr[j], represent)\n",
    "        y_pred.append(torch.argmax(score).item())\n",
    "        y.append(id.item())\n",
    "    \n",
    "    acc = 0\n",
    "    for i in range(len(y)):\n",
    "        if(y[i] == y_pred[i]):\n",
    "            acc += 1\n",
    "    print('Accuracy: ' + str(acc/len(y)*100) + '%')\n",
    "        \n",
    "    \n",
    "    \n",
    "if EVAL_ON_TEST:\n",
    "    print(\"Evaluating on test set...\")\n",
    "    y = []\n",
    "    y_pred = []\n",
    "    for i, data in enumerate(test_loader):\n",
    "        anchor, id = data[0], data[-1]\n",
    "        represent = torch.reshape(simple_model.get_features(anchor), [-1])\n",
    "        score = torch.zeros(10)\n",
    "        for j in range(num_classes):\n",
    "            score[j] = torch.dot(average_repr[j], represent)\n",
    "        y_pred.append(torch.argmax(score).item())\n",
    "        y.append(id.item())\n",
    "        \n",
    "    acc = 0\n",
    "    for i in range(len(y)):\n",
    "        if(y[i] == y_pred[i]):\n",
    "            acc += 1\n",
    "    print('Accuracy: ' + str(acc/len(y)*100) + '%')\n",
    "    \n",
    "    \n",
    "t1 = time.time_ns()\n",
    "print(f\"Evaluation time (sec): {(t1-t0)/10**9:.1f}\")"
   ]
  },
  {
   "cell_type": "markdown",
   "id": "ff309d3c",
   "metadata": {},
   "source": [
    "# Nedostajuća nula"
   ]
  },
  {
   "cell_type": "code",
   "execution_count": 4,
   "id": "7e01c9c5",
   "metadata": {},
   "outputs": [],
   "source": [
    "#@author Simun Sopar\n",
    "\n",
    "#missing 0\n",
    "\n",
    "ds_train_missing_0 = MNISTMetricDataset(mnist_download_root, split='train', remove_class = 0)\n",
    "\n",
    "train_loader_missing_0 = DataLoader(\n",
    "    ds_train_missing_0,\n",
    "    batch_size=64,\n",
    "    shuffle=True,\n",
    "    pin_memory=True,\n",
    "    num_workers=4,\n",
    "    drop_last=True\n",
    ")\n",
    "\n",
    "\n",
    "emb_size = 32\n",
    "model = SimpleMetricEmbedding(1, emb_size).to(device)\n",
    "optimizer = torch.optim.Adam(\n",
    "    model.parameters(),\n",
    "    lr=1e-3\n",
    ")\n",
    "\n",
    "epochs = 3"
   ]
  },
  {
   "cell_type": "code",
   "execution_count": 6,
   "id": "939b0ae5",
   "metadata": {},
   "outputs": [
    {
     "name": "stdout",
     "output_type": "stream",
     "text": [
      "Epoch: 0\n",
      "Iter: 0, Mean Loss: 53.013\n",
      "Iter: 100, Mean Loss: 50.141\n",
      "Iter: 200, Mean Loss: 50.068\n",
      "Iter: 300, Mean Loss: 50.177\n",
      "Iter: 400, Mean Loss: 50.186\n",
      "Iter: 500, Mean Loss: 50.205\n",
      "Iter: 600, Mean Loss: 50.236\n",
      "Iter: 700, Mean Loss: 50.363\n",
      "Iter: 800, Mean Loss: 50.387\n",
      "Mean Loss in Epoch 0: 50.382\n",
      "Computing mean representations for evaluation...\n",
      "Evaluating on test set...\n",
      "Epoch 0: Test Accuracy: 67.99%\n",
      "Epoch time (sec): 66.7\n",
      "Epoch: 1\n",
      "Iter: 0, Mean Loss: 45.531\n",
      "Iter: 100, Mean Loss: 50.205\n",
      "Iter: 200, Mean Loss: 50.308\n",
      "Iter: 300, Mean Loss: 50.562\n",
      "Iter: 400, Mean Loss: 50.625\n",
      "Iter: 500, Mean Loss: 50.598\n",
      "Iter: 600, Mean Loss: 50.481\n",
      "Iter: 700, Mean Loss: 50.420\n",
      "Iter: 800, Mean Loss: 50.442\n",
      "Mean Loss in Epoch 1: 50.436\n",
      "Computing mean representations for evaluation...\n",
      "Evaluating on test set...\n",
      "Epoch 1: Test Accuracy: 68.01%\n",
      "Epoch time (sec): 67.1\n",
      "Epoch: 2\n",
      "Iter: 0, Mean Loss: 56.121\n",
      "Iter: 100, Mean Loss: 50.002\n",
      "Iter: 200, Mean Loss: 50.255\n",
      "Iter: 300, Mean Loss: 50.184\n",
      "Iter: 400, Mean Loss: 50.212\n",
      "Iter: 500, Mean Loss: 50.356\n",
      "Iter: 600, Mean Loss: 50.294\n",
      "Iter: 700, Mean Loss: 50.277\n",
      "Iter: 800, Mean Loss: 50.312\n",
      "Mean Loss in Epoch 2: 50.315\n",
      "Computing mean representations for evaluation...\n",
      "Evaluating on test set...\n",
      "Epoch 2: Test Accuracy: 67.99%\n",
      "Epoch time (sec): 69.5\n"
     ]
    }
   ],
   "source": [
    "#@author FER\n",
    "for epoch in range(epochs):\n",
    "    print(f\"Epoch: {epoch}\")\n",
    "    t0 = time.time_ns()\n",
    "    train_loss = train(model, optimizer, train_loader_missing_0, device)\n",
    "    print(f\"Mean Loss in Epoch {epoch}: {train_loss:.3f}\")\n",
    "    if EVAL_ON_TEST or EVAL_ON_TRAIN:\n",
    "        print(\"Computing mean representations for evaluation...\")\n",
    "        representations = compute_representations(model, train_loader, num_classes, emb_size, device)\n",
    "    if EVAL_ON_TRAIN:\n",
    "        print(\"Evaluating on training set...\")\n",
    "        acc1 = evaluate(model, representations, traineval_loader, device)\n",
    "        print(f\"Epoch {epoch}: Train Top1 Acc: {round(acc1 * 100, 2)}%\")\n",
    "    if EVAL_ON_TEST:\n",
    "        print(\"Evaluating on test set...\")\n",
    "        acc1 = evaluate(model, representations, test_loader, device)\n",
    "        print(f\"Epoch {epoch}: Test Accuracy: {acc1 * 100:.2f}%\")\n",
    "    t1 = time.time_ns()\n",
    "    print(f\"Epoch time (sec): {(t1-t0)/10**9:.1f}\")\n",
    "    \n",
    "torch.save(model.state_dict(), 'model_parameters_missing_0.pt')"
   ]
  },
  {
   "cell_type": "code",
   "execution_count": null,
   "id": "1841bc9a",
   "metadata": {},
   "outputs": [],
   "source": []
  }
 ],
 "metadata": {
  "kernelspec": {
   "display_name": "Python 3 (ipykernel)",
   "language": "python",
   "name": "python3"
  },
  "language_info": {
   "codemirror_mode": {
    "name": "ipython",
    "version": 3
   },
   "file_extension": ".py",
   "mimetype": "text/x-python",
   "name": "python",
   "nbconvert_exporter": "python",
   "pygments_lexer": "ipython3",
   "version": "3.7.13"
  }
 },
 "nbformat": 4,
 "nbformat_minor": 5
}
