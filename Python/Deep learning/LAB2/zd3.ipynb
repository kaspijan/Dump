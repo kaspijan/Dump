{
 "cells": [
  {
   "cell_type": "markdown",
   "id": "8c2f2ae2",
   "metadata": {},
   "source": [
    "Autor koda: Šimun Šopar (osim funkcije reset_parameters klase ConvolutionalModel i funkcije draw_filters, to je autor FER)"
   ]
  },
  {
   "cell_type": "code",
   "execution_count": 36,
   "id": "8a621c38",
   "metadata": {},
   "outputs": [],
   "source": [
    "import layers"
   ]
  },
  {
   "cell_type": "code",
   "execution_count": 6,
   "id": "77f01c63",
   "metadata": {},
   "outputs": [],
   "source": [
    "import torch\n",
    "from torch import nn\n",
    "import numpy as np\n",
    "from torch.optim import SGD\n",
    "from pathlib import Path\n",
    "from parse import parse \n",
    "import matplotlib.pyplot as plt\n",
    "\n",
    "import skimage as ski\n",
    "import skimage.io\n",
    "\n",
    "from IPython.display import clear_output\n",
    "\n",
    "from torch.utils.data import DataLoader, TensorDataset\n",
    "\n",
    "from torchvision.datasets import MNIST"
   ]
  },
  {
   "cell_type": "code",
   "execution_count": 12,
   "id": "17a6141f",
   "metadata": {},
   "outputs": [
    {
     "data": {
      "text/plain": [
       "tensor([[3., 5.]])"
      ]
     },
     "execution_count": 12,
     "metadata": {},
     "output_type": "execute_result"
    }
   ],
   "source": [
    "pool1 = nn.MaxPool1d(kernel_size = 3, stride = 3)\n",
    "\n",
    "t = torch.Tensor([[1,2,3,4,5,2, 70]])\n",
    "pool1(t)"
   ]
  },
  {
   "cell_type": "code",
   "execution_count": 4,
   "id": "66a20a2e",
   "metadata": {},
   "outputs": [],
   "source": [
    "class ConvolutionalModel(nn.Module):\n",
    "    def __init__(self, pic_size, in_channels, conv1_width, pool1_size, conv2_width, pool2_size, fc1_width, class_count):\n",
    "        super().__init__()\n",
    "        \n",
    "        self.pic_size = pic_size #size of current layer\n",
    "        self.regulizers = []\n",
    "        \n",
    "        self.conv1_width = conv1_width\n",
    "        \n",
    "        self.conv1 = nn.Conv2d(in_channels, conv1_width, kernel_size=5, stride=1, padding=2, bias=True)\n",
    "        self.pool1 = nn.MaxPool2d(kernel_size = pool1_size, stride = pool1_size)\n",
    "        self.relu1 = nn.ReLU() #možda treba zamijeniti relu i pool\n",
    "        \n",
    "        self.regulizers.append(self.conv1.weight)\n",
    "        \n",
    "        for i in range(len(self.pic_size)):\n",
    "            if(len(np.shape(pool1_size)) == 0):\n",
    "                p_size = pool1_size\n",
    "            else:\n",
    "                p_size = pool1_size[i]\n",
    "                \n",
    "            self.pic_size[i] = np.floor(self.pic_size[i]/p_size)\n",
    "            \n",
    "        \n",
    "        self.conv2 = nn.Conv2d(conv1_width, conv2_width, kernel_size=5, stride=1, padding=2, bias=True)\n",
    "        self.pool2 = nn.MaxPool2d(kernel_size = pool2_size, stride = pool2_size)\n",
    "        self.relu2 = nn.ReLU()\n",
    "        \n",
    "        self.regulizers.append(self.conv2.weight)\n",
    "        #self.flat = nn.Flatten()\n",
    "    \n",
    "        for i in range(len(self.pic_size)):\n",
    "            if(len(np.shape(pool2_size)) == 0):\n",
    "                p_size = pool2_size\n",
    "            else:\n",
    "                p_size = pool2_size[i]\n",
    "                \n",
    "            self.pic_size[i] = np.floor(self.pic_size[i]/p_size)\n",
    "    \n",
    "        # potpuno povezani slojevi\n",
    "        self.fc1 = nn.Linear((int)(conv2_width * self.pic_size[0] * self.pic_size[1]), fc1_width, bias=True)\n",
    "        self.fc_logits = nn.Linear(fc1_width, class_count, bias=True)\n",
    "        \n",
    "        self.regulizers.append(self.fc1.weight)\n",
    "\n",
    "        # parametri su već inicijalizirani pozivima Conv2d i Linear\n",
    "        # ali možemo ih drugačije inicijalizirati\n",
    "        self.reset_parameters()\n",
    "\n",
    "    #@author FER\n",
    "    def reset_parameters(self):\n",
    "        for m in self.modules():\n",
    "            if isinstance(m, nn.Conv2d):\n",
    "                nn.init.kaiming_normal_(m.weight, mode='fan_in', nonlinearity='relu')\n",
    "                nn.init.constant_(m.bias, 0)\n",
    "            elif isinstance(m, nn.Linear) and m is not self.fc_logits:\n",
    "                nn.init.kaiming_normal_(m.weight, mode='fan_in', nonlinearity='relu')\n",
    "                nn.init.constant_(m.bias, 0)\n",
    "        self.fc_logits.reset_parameters()\n",
    "\n",
    "    def forward(self, x):\n",
    "        h = self.conv1(x)\n",
    "        h = self.pool1(h)\n",
    "        h = self.relu1(h)\n",
    "        \n",
    "        h = self.conv2(h)\n",
    "        h = self.pool2(h)\n",
    "        h = self.relu2(h)\n",
    "        \n",
    "        \n",
    "        h = h.view(h.shape[0], -1)\n",
    "        h = self.fc1(h)\n",
    "        h = torch.relu(h)\n",
    "        logits = self.fc_logits(h)\n",
    "        \n",
    "         \n",
    "        return logits\n",
    "    \n",
    "    def get_regulizers(self):\n",
    "        flat = nn.Flatten(start_dim = 0)\n",
    "        tmp = torch.Tensor()\n",
    "        for i in range(len(self.regulizers)):\n",
    "            for j in range(len(self.regulizers[i])):\n",
    "                tmp = torch.cat((tmp, flat(self.regulizers[i][j])))\n",
    "        return tmp\n",
    "        \n",
    "    \n",
    "\n",
    "def loss_fun(model, y_, logits, decay = 1e-4):\n",
    "    lsoft = nn.LogSoftmax(dim = 1)\n",
    "    y = lsoft(logits)\n",
    "    w = model.get_regulizers()\n",
    "    return -(y_ * y).mean() + decay * torch.sum(w**2)\n",
    "\n",
    "\n",
    "def train(model, x, y_, optimizer):\n",
    "    logits = model.forward(x)\n",
    "    loss = loss_fun(model, y_, logits)\n",
    "    optimizer.zero_grad()\n",
    "    loss.backward()\n",
    "    optimizer.step()\n",
    "    \n",
    "#@author FER  \n",
    "def draw_filters(model, epoch = 0):\n",
    "    C = model.conv1_width\n",
    "    weights = model.conv1.weight.clone()\n",
    "    draw = []\n",
    "    for i, w in enumerate(weights):\n",
    "        tmp_w = w[0].detach().numpy()\n",
    "        tmp_w -= np.min(tmp_w)\n",
    "        tmp_w /= np.max(tmp_w)\n",
    "        draw.append(tmp_w)\n",
    "        if(i != len(weights) - 1):\n",
    "            draw.append(np.array([[0, 0, 0] for k in range(len(tmp_w))]))\n",
    "    \n",
    "    draw = np.concatenate(draw, axis = 1)\n",
    "    filename = 'out/zad3/epoch = ' + str(epoch) + '.png'\n",
    "    ski.io.imsave(filename, draw)"
   ]
  },
  {
   "cell_type": "code",
   "execution_count": 5,
   "id": "bffd889e",
   "metadata": {
    "scrolled": true
   },
   "outputs": [],
   "source": [
    "#data and model initializer\n",
    "\n",
    "#DATA_DIR = Path(__file__).parent / 'MNIST data'\n",
    "DATA_DIR = 'MNIST data'\n",
    "\n",
    "ds_train, ds_test = MNIST(DATA_DIR, train=True, download=False), MNIST(DATA_DIR, train=False)\n",
    "train_x = ds_train.data.reshape([-1, 1, 28, 28]).numpy().astype(float) / 255\n",
    "train_y = ds_train.targets.numpy()\n",
    "train_x, valid_x = train_x[:55000], train_x[55000:]\n",
    "train_y, valid_y = train_y[:55000], train_y[55000:]\n",
    "test_x = ds_test.data.reshape([-1, 1, 28, 28]).numpy().astype(float) / 255\n",
    "test_y = ds_test.targets.numpy()\n",
    "train_mean = train_x.mean()\n",
    "train_x, valid_x, test_x = (torch.Tensor(x - train_mean) for x in (train_x, valid_x, test_x))\n",
    "train_y, valid_y, test_y = (nn.functional.one_hot(torch.Tensor(y).to(torch.int64), 10) for y in (train_y, valid_y, test_y))\n",
    "\n",
    "dataset_train = TensorDataset(train_x, train_y)\n",
    "#dataset_test = TensorDataset(test_x, test_y)\n",
    "#dataset_valid = TensorDataset(valid_x, valid_y)\n",
    "\n",
    "\n",
    "model = ConvolutionalModel([28, 28], 1, 16, 5, 32, 5, 512, 10)\n",
    "optimizer = SGD(model.parameters(), lr = 1e-2)\n",
    "\n",
    "epoch_num = 8\n",
    "batch_size = 100\n",
    "\n",
    "error_log = 'out/zad3/log.txt'\n",
    "error_file = open(error_log, 'w')\n",
    "\n",
    "logits = model.forward(valid_x)\n",
    "val_error = loss_fun(model, valid_y, logits)\n",
    "\n",
    "draw_filters(model)\n",
    "error_file.write('Epoch = 0: Error = ' + str((float)(val_error)) + '\\n')\n",
    "\n",
    "clear_output()"
   ]
  },
  {
   "cell_type": "code",
   "execution_count": 6,
   "id": "fee43e2c",
   "metadata": {},
   "outputs": [],
   "source": [
    "#learning\n",
    "\n",
    "for epoch in range(1, epoch_num + 1):\n",
    "    print('Epoch:', epoch)\n",
    "    loader = DataLoader(dataset_train, batch_size)\n",
    "    loader = list(loader)\n",
    "    \n",
    "    for i, batch in enumerate(loader):\n",
    "        len_batch = len(loader)\n",
    "        if(i % 10 == 0):\n",
    "            print('Batch progress:', i/len_batch*100, '%')\n",
    "        train(model, batch[0], batch[1], optimizer)\n",
    "        \n",
    "    logits = model.forward(valid_x)\n",
    "    val_error = loss_fun(model, valid_y, logits)\n",
    "    error_file.write('Epoch = ' + str(epoch) + ': Error = ' + str((float)(val_error)) + '\\n')\n",
    "    \n",
    "    draw_filters(model, epoch)\n",
    "    clear_output()\n",
    "    \n",
    "error_file.close()"
   ]
  },
  {
   "cell_type": "code",
   "execution_count": 7,
   "id": "14bed4e3",
   "metadata": {},
   "outputs": [],
   "source": [
    "torch.save(model.state_dict(), 'out/zad3/model-2-4-23.pth')"
   ]
  },
  {
   "cell_type": "code",
   "execution_count": 2,
   "id": "ca051a2a",
   "metadata": {},
   "outputs": [],
   "source": [
    "error_log = 'out/zad3/log.txt'"
   ]
  },
  {
   "cell_type": "code",
   "execution_count": 8,
   "id": "987a3791",
   "metadata": {},
   "outputs": [
    {
     "data": {
      "text/plain": [
       "<matplotlib.collections.PathCollection at 0x2b58e735048>"
      ]
     },
     "execution_count": 8,
     "metadata": {},
     "output_type": "execute_result"
    },
    {
     "data": {
      "image/png": "[encoded data removed]",
      "text/plain": [
       "<Figure size 640x480 with 1 Axes>"
      ]
     },
     "metadata": {},
     "output_type": "display_data"
    }
   ],
   "source": [
    "#plotting\n",
    "error_file = open(error_log, 'r')\n",
    "\n",
    "epoch_mesh = []\n",
    "err_mesh = []\n",
    "\n",
    "for line in error_file.readlines():\n",
    "    epoch, error = parse('Epoch = {}: Error = {}', line)\n",
    "    epoch_mesh.append((int)(epoch))\n",
    "    err_mesh.append((float)(error))\n",
    "\n",
    "\n",
    "error_file.close()\n",
    "\n",
    "plt.scatter(epoch_mesh, err_mesh)"
   ]
  },
  {
   "cell_type": "code",
   "execution_count": null,
   "id": "eb5677b0",
   "metadata": {},
   "outputs": [],
   "source": []
  }
 ],
 "metadata": {
  "kernelspec": {
   "display_name": "Python 3 (ipykernel)",
   "language": "python",
   "name": "python3"
  },
  "language_info": {
   "codemirror_mode": {
    "name": "ipython",
    "version": 3
   },
   "file_extension": ".py",
   "mimetype": "text/x-python",
   "name": "python",
   "nbconvert_exporter": "python",
   "pygments_lexer": "ipython3",
   "version": "3.7.13"
  }
 },
 "nbformat": 4,
 "nbformat_minor": 5
}
